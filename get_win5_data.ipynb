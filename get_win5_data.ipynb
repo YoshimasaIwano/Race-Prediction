{
 "cells": [
  {
   "cell_type": "code",
   "execution_count": 1,
   "metadata": {},
   "outputs": [],
   "source": [
    "from get_win5_url import get_win5_url \n",
    "from get_win5_race_id import get_win5_race_id\n",
    "from get_win5_return import get_win5_return\n",
    "from get_win5_return_csv import get_win5_return_csv\n",
    "import numpy as np\n",
    "import pandas as pd\n",
    "\n",
    "pd.set_option('display.max_rows', 300)\n",
    "import logging"
   ]
  },
  {
   "cell_type": "code",
   "execution_count": 2,
   "metadata": {},
   "outputs": [],
   "source": [
    "#get_win5_url()"
   ]
  },
  {
   "cell_type": "code",
   "execution_count": 3,
   "metadata": {},
   "outputs": [],
   "source": [
    "#get_win5_race_id()"
   ]
  },
  {
   "cell_type": "code",
   "execution_count": 4,
   "metadata": {},
   "outputs": [],
   "source": [
    "#get_win5_return()"
   ]
  },
  {
   "cell_type": "code",
   "execution_count": 2,
   "metadata": {},
   "outputs": [],
   "source": [
    "#get_win5_return_csv()"
   ]
  },
  {
   "cell_type": "code",
   "execution_count": 2,
   "metadata": {},
   "outputs": [],
   "source": [
    "win5_race_id_df = pd.read_csv(\"./csv/data/win5-2011.csv\")\n",
    "for y in range(2012, 2021):\n",
    "    race_tmp_df = pd.read_csv(\"./csv/data/win5-\" + str(y) + \".csv\",)\n",
    "    win5_race_id_df = pd.concat([win5_race_id_df, race_tmp_df], axis = 0)"
   ]
  },
  {
   "cell_type": "code",
   "execution_count": 3,
   "metadata": {},
   "outputs": [
    {
     "data": {
      "text/html": [
       "<div>\n",
       "<style scoped>\n",
       "    .dataframe tbody tr th:only-of-type {\n",
       "        vertical-align: middle;\n",
       "    }\n",
       "\n",
       "    .dataframe tbody tr th {\n",
       "        vertical-align: top;\n",
       "    }\n",
       "\n",
       "    .dataframe thead th {\n",
       "        text-align: right;\n",
       "    }\n",
       "</style>\n",
       "<table border=\"1\" class=\"dataframe\">\n",
       "  <thead>\n",
       "    <tr style=\"text-align: right;\">\n",
       "      <th></th>\n",
       "      <th>win5_race_id</th>\n",
       "    </tr>\n",
       "  </thead>\n",
       "  <tbody>\n",
       "    <tr>\n",
       "      <th>0</th>\n",
       "      <td>201109060809</td>\n",
       "    </tr>\n",
       "    <tr>\n",
       "      <th>1</th>\n",
       "      <td>201106050809</td>\n",
       "    </tr>\n",
       "    <tr>\n",
       "      <th>2</th>\n",
       "      <td>201110051010</td>\n",
       "    </tr>\n",
       "    <tr>\n",
       "      <th>3</th>\n",
       "      <td>201109060810</td>\n",
       "    </tr>\n",
       "    <tr>\n",
       "      <th>4</th>\n",
       "      <td>201106050810</td>\n",
       "    </tr>\n",
       "  </tbody>\n",
       "</table>\n",
       "</div>"
      ],
      "text/plain": [
       "   win5_race_id\n",
       "0  201109060809\n",
       "1  201106050809\n",
       "2  201110051010\n",
       "3  201109060810\n",
       "4  201106050810"
      ]
     },
     "execution_count": 3,
     "metadata": {},
     "output_type": "execute_result"
    }
   ],
   "source": [
    "win5_race_id_df.head(5)"
   ]
  },
  {
   "cell_type": "code",
   "execution_count": 4,
   "metadata": {},
   "outputs": [
    {
     "data": {
      "text/plain": [
       "(2565, 1)"
      ]
     },
     "execution_count": 4,
     "metadata": {},
     "output_type": "execute_result"
    }
   ],
   "source": [
    "win5_race_id_df.shape"
   ]
  },
  {
   "cell_type": "code",
   "execution_count": 5,
   "metadata": {},
   "outputs": [],
   "source": [
    "#win5_race_id_df.to_csv(\"csv/data/win5_race_id_straight.csv\", index = False)"
   ]
  },
  {
   "cell_type": "code",
   "execution_count": 6,
   "metadata": {},
   "outputs": [
    {
     "name": "stdout",
     "output_type": "stream",
     "text": [
      "(513, 5)\n"
     ]
    },
    {
     "data": {
      "text/html": [
       "<div>\n",
       "<style scoped>\n",
       "    .dataframe tbody tr th:only-of-type {\n",
       "        vertical-align: middle;\n",
       "    }\n",
       "\n",
       "    .dataframe tbody tr th {\n",
       "        vertical-align: top;\n",
       "    }\n",
       "\n",
       "    .dataframe thead th {\n",
       "        text-align: right;\n",
       "    }\n",
       "</style>\n",
       "<table border=\"1\" class=\"dataframe\">\n",
       "  <thead>\n",
       "    <tr style=\"text-align: right;\">\n",
       "      <th></th>\n",
       "      <th>race_1</th>\n",
       "      <th>race_2</th>\n",
       "      <th>race_3</th>\n",
       "      <th>race_4</th>\n",
       "      <th>race_5</th>\n",
       "    </tr>\n",
       "  </thead>\n",
       "  <tbody>\n",
       "    <tr>\n",
       "      <th>503</th>\n",
       "      <td>202009010210</td>\n",
       "      <td>202006020210</td>\n",
       "      <td>202007010211</td>\n",
       "      <td>202009010211</td>\n",
       "      <td>202006020211</td>\n",
       "    </tr>\n",
       "    <tr>\n",
       "      <th>504</th>\n",
       "      <td>202008020810</td>\n",
       "      <td>202005010810</td>\n",
       "      <td>202010011211</td>\n",
       "      <td>202008020811</td>\n",
       "      <td>202005010811</td>\n",
       "    </tr>\n",
       "    <tr>\n",
       "      <th>505</th>\n",
       "      <td>202008020610</td>\n",
       "      <td>202005010610</td>\n",
       "      <td>202010011011</td>\n",
       "      <td>202008020611</td>\n",
       "      <td>202005010611</td>\n",
       "    </tr>\n",
       "    <tr>\n",
       "      <th>506</th>\n",
       "      <td>202008020410</td>\n",
       "      <td>202005010410</td>\n",
       "      <td>202010010811</td>\n",
       "      <td>202008020411</td>\n",
       "      <td>202005010411</td>\n",
       "    </tr>\n",
       "    <tr>\n",
       "      <th>507</th>\n",
       "      <td>202008020210</td>\n",
       "      <td>202005010210</td>\n",
       "      <td>202010010611</td>\n",
       "      <td>202008020211</td>\n",
       "      <td>202005010211</td>\n",
       "    </tr>\n",
       "    <tr>\n",
       "      <th>508</th>\n",
       "      <td>202008010910</td>\n",
       "      <td>202006010910</td>\n",
       "      <td>202010010411</td>\n",
       "      <td>202008010911</td>\n",
       "      <td>202006010911</td>\n",
       "    </tr>\n",
       "    <tr>\n",
       "      <th>509</th>\n",
       "      <td>202008010710</td>\n",
       "      <td>202006010710</td>\n",
       "      <td>202010010211</td>\n",
       "      <td>202008010711</td>\n",
       "      <td>202006010711</td>\n",
       "    </tr>\n",
       "    <tr>\n",
       "      <th>510</th>\n",
       "      <td>202008010509</td>\n",
       "      <td>202006010510</td>\n",
       "      <td>202008010510</td>\n",
       "      <td>202006010511</td>\n",
       "      <td>202008010511</td>\n",
       "    </tr>\n",
       "    <tr>\n",
       "      <th>511</th>\n",
       "      <td>202008010409</td>\n",
       "      <td>202006010410</td>\n",
       "      <td>202008010410</td>\n",
       "      <td>202006010411</td>\n",
       "      <td>202008010411</td>\n",
       "    </tr>\n",
       "    <tr>\n",
       "      <th>512</th>\n",
       "      <td>202008010109</td>\n",
       "      <td>202006010110</td>\n",
       "      <td>202008010110</td>\n",
       "      <td>202006010111</td>\n",
       "      <td>202008010111</td>\n",
       "    </tr>\n",
       "  </tbody>\n",
       "</table>\n",
       "</div>"
      ],
      "text/plain": [
       "           race_1        race_2        race_3        race_4        race_5\n",
       "503  202009010210  202006020210  202007010211  202009010211  202006020211\n",
       "504  202008020810  202005010810  202010011211  202008020811  202005010811\n",
       "505  202008020610  202005010610  202010011011  202008020611  202005010611\n",
       "506  202008020410  202005010410  202010010811  202008020411  202005010411\n",
       "507  202008020210  202005010210  202010010611  202008020211  202005010211\n",
       "508  202008010910  202006010910  202010010411  202008010911  202006010911\n",
       "509  202008010710  202006010710  202010010211  202008010711  202006010711\n",
       "510  202008010509  202006010510  202008010510  202006010511  202008010511\n",
       "511  202008010409  202006010410  202008010410  202006010411  202008010411\n",
       "512  202008010109  202006010110  202008010110  202006010111  202008010111"
      ]
     },
     "execution_count": 6,
     "metadata": {},
     "output_type": "execute_result"
    }
   ],
   "source": [
    "df = win5_race_id_df.to_numpy().reshape(-1,5)\n",
    "win5_race_id_day = pd.DataFrame(df, columns = [\"race_1\", \"race_2\", \"race_3\", \"race_4\", \"race_5\"])\n",
    "print(win5_race_id_day.shape)\n",
    "win5_race_id_day.tail(10)"
   ]
  },
  {
   "cell_type": "code",
   "execution_count": 7,
   "metadata": {},
   "outputs": [],
   "source": [
    "win5_return = pd.read_csv(\"./csv/data/win5-return-2011.csv\")\n",
    "for y in range(2012, 2021):\n",
    "    return_tmp_df = pd.read_csv(\"./csv/data/win5-return-\" + str(y) + \".csv\",)\n",
    "    win5_return = pd.concat([win5_return, return_tmp_df], axis = 0)"
   ]
  },
  {
   "cell_type": "code",
   "execution_count": 8,
   "metadata": {},
   "outputs": [
    {
     "data": {
      "text/html": [
       "<div>\n",
       "<style scoped>\n",
       "    .dataframe tbody tr th:only-of-type {\n",
       "        vertical-align: middle;\n",
       "    }\n",
       "\n",
       "    .dataframe tbody tr th {\n",
       "        vertical-align: top;\n",
       "    }\n",
       "\n",
       "    .dataframe thead th {\n",
       "        text-align: right;\n",
       "    }\n",
       "</style>\n",
       "<table border=\"1\" class=\"dataframe\">\n",
       "  <thead>\n",
       "    <tr style=\"text-align: right;\">\n",
       "      <th></th>\n",
       "      <th>win5_return</th>\n",
       "    </tr>\n",
       "  </thead>\n",
       "  <tbody>\n",
       "    <tr>\n",
       "      <th>0</th>\n",
       "      <td>115万1470円</td>\n",
       "    </tr>\n",
       "    <tr>\n",
       "      <th>1</th>\n",
       "      <td>911万5030円</td>\n",
       "    </tr>\n",
       "    <tr>\n",
       "      <th>2</th>\n",
       "      <td>212万8380円</td>\n",
       "    </tr>\n",
       "    <tr>\n",
       "      <th>3</th>\n",
       "      <td>4429万7190円</td>\n",
       "    </tr>\n",
       "    <tr>\n",
       "      <th>4</th>\n",
       "      <td>361万780円</td>\n",
       "    </tr>\n",
       "    <tr>\n",
       "      <th>5</th>\n",
       "      <td>219万1850円</td>\n",
       "    </tr>\n",
       "    <tr>\n",
       "      <th>6</th>\n",
       "      <td>19万2500円</td>\n",
       "    </tr>\n",
       "    <tr>\n",
       "      <th>7</th>\n",
       "      <td>1万3720円</td>\n",
       "    </tr>\n",
       "    <tr>\n",
       "      <th>8</th>\n",
       "      <td>1億6213万1980円</td>\n",
       "    </tr>\n",
       "    <tr>\n",
       "      <th>9</th>\n",
       "      <td>3472万6200円</td>\n",
       "    </tr>\n",
       "  </tbody>\n",
       "</table>\n",
       "</div>"
      ],
      "text/plain": [
       "    win5_return\n",
       "0     115万1470円\n",
       "1     911万5030円\n",
       "2     212万8380円\n",
       "3    4429万7190円\n",
       "4      361万780円\n",
       "5     219万1850円\n",
       "6      19万2500円\n",
       "7       1万3720円\n",
       "8  1億6213万1980円\n",
       "9    3472万6200円"
      ]
     },
     "execution_count": 8,
     "metadata": {},
     "output_type": "execute_result"
    }
   ],
   "source": [
    "win5_return.head(10)"
   ]
  },
  {
   "cell_type": "code",
   "execution_count": 9,
   "metadata": {
    "scrolled": true
   },
   "outputs": [
    {
     "name": "stdout",
     "output_type": "stream",
     "text": [
      "win5_return    object\n",
      "dtype: object\n",
      "(543, 1)\n"
     ]
    }
   ],
   "source": [
    "print(win5_return.dtypes)\n",
    "print(win5_return.shape)"
   ]
  },
  {
   "cell_type": "code",
   "execution_count": 10,
   "metadata": {},
   "outputs": [],
   "source": [
    "win5_return = win5_return[(win5_return[\"win5_return\"] != 'キャリーオーバー') & (win5_return[\"win5_return\"] != '的中なし')]"
   ]
  },
  {
   "cell_type": "code",
   "execution_count": 11,
   "metadata": {},
   "outputs": [
    {
     "name": "stdout",
     "output_type": "stream",
     "text": [
      "523\n"
     ]
    }
   ],
   "source": [
    "print(len(win5_return))"
   ]
  },
  {
   "cell_type": "code",
   "execution_count": 12,
   "metadata": {},
   "outputs": [],
   "source": [
    "win5_return_digit = win5_return[\"win5_return\"].str.extract('(\\d*)円',expand = True)\n",
    "win5_return_man = win5_return[\"win5_return\"].str.extract('(\\d*)万',expand = True)\n",
    "win5_return_oku = win5_return[\"win5_return\"].str.extract('(\\d*)億',expand = True)"
   ]
  },
  {
   "cell_type": "code",
   "execution_count": 13,
   "metadata": {},
   "outputs": [],
   "source": [
    "win5_return_digit = win5_return_digit.replace('',np.nan)\n",
    "win5_return_digit = win5_return_digit.fillna(0).astype(int)\n",
    "win5_return_man = win5_return_man.fillna(0).astype(int)\n",
    "win5_return_oku = win5_return_oku.fillna(0).astype(int)"
   ]
  },
  {
   "cell_type": "code",
   "execution_count": 14,
   "metadata": {},
   "outputs": [
    {
     "name": "stdout",
     "output_type": "stream",
     "text": [
      "(523, 1)\n"
     ]
    }
   ],
   "source": [
    "return_int = win5_return_oku * 100000000 + win5_return_man * 10000 + win5_return_digit\n",
    "return_int2 = return_int.copy()\n",
    "return_int2.columns = [\"r\"]\n",
    "print(return_int2.shape)"
   ]
  },
  {
   "cell_type": "code",
   "execution_count": 15,
   "metadata": {},
   "outputs": [],
   "source": [
    "return_int2 = return_int2[(return_int2.r != 200000000) & (return_int2.r != 100938320) & (return_int2.r != 10282010) & (return_int2.r != 15618470) & (return_int2.r != 418600)]\n",
    "return_int2 = return_int2.reset_index(drop = True)"
   ]
  },
  {
   "cell_type": "code",
   "execution_count": 16,
   "metadata": {},
   "outputs": [
    {
     "name": "stdout",
     "output_type": "stream",
     "text": [
      "(513, 1)\n",
      "             r\n",
      "503    3728580\n",
      "504    8321350\n",
      "505     101490\n",
      "506    2213230\n",
      "507  433907040\n",
      "508     473610\n",
      "509   17052050\n",
      "510  394365860\n",
      "511      65590\n",
      "512     483600\n"
     ]
    }
   ],
   "source": [
    "print(return_int2.shape)\n",
    "print(return_int2.tail(10))"
   ]
  },
  {
   "cell_type": "code",
   "execution_count": 17,
   "metadata": {},
   "outputs": [],
   "source": [
    "#win5_return_race_df = pd.merge([win5_race_id_day, return_int2])\n",
    "win5_race_id_day = win5_race_id_day.join(return_int2)"
   ]
  },
  {
   "cell_type": "code",
   "execution_count": 18,
   "metadata": {},
   "outputs": [
    {
     "data": {
      "text/plain": [
       "513"
      ]
     },
     "execution_count": 18,
     "metadata": {},
     "output_type": "execute_result"
    }
   ],
   "source": [
    "len(win5_race_id_day)"
   ]
  },
  {
   "cell_type": "code",
   "execution_count": 19,
   "metadata": {},
   "outputs": [
    {
     "name": "stdout",
     "output_type": "stream",
     "text": [
      "         race_1        race_2        race_3        race_4        race_5  \\\n",
      "0  201109060809  201106050809  201110051010  201109060810  201106050810   \n",
      "1  201106050610  201109060610  201106050611  201110050811  201109060611   \n",
      "2  201106050410  201109060410  201106050411  201110050611  201109060411   \n",
      "3  201106050210  201109060210  201106050211  201110050411  201109060211   \n",
      "4  201108060809  201105050809  201110050210  201108060810  201105050810   \n",
      "\n",
      "          r  \n",
      "0   1151470  \n",
      "1   9115030  \n",
      "2   2128380  \n",
      "3  44297190  \n",
      "4   3610780  \n"
     ]
    }
   ],
   "source": [
    "print(win5_race_id_day.head(5))"
   ]
  },
  {
   "cell_type": "code",
   "execution_count": 20,
   "metadata": {},
   "outputs": [],
   "source": [
    "win5_race_id_day.to_csv(\"csv/data/win5_race_id_day.csv\", index = False)"
   ]
  },
  {
   "cell_type": "code",
   "execution_count": null,
   "metadata": {},
   "outputs": [],
   "source": []
  }
 ],
 "metadata": {
  "kernelspec": {
   "display_name": "Python 3",
   "language": "python",
   "name": "python3"
  },
  "language_info": {
   "codemirror_mode": {
    "name": "ipython",
    "version": 3
   },
   "file_extension": ".py",
   "mimetype": "text/x-python",
   "name": "python",
   "nbconvert_exporter": "python",
   "pygments_lexer": "ipython3",
   "version": "3.6.10"
  }
 },
 "nbformat": 4,
 "nbformat_minor": 4
}
