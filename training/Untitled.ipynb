{
 "cells": [
  {
   "cell_type": "code",
   "execution_count": 2,
   "id": "3325ffe5",
   "metadata": {},
   "outputs": [],
   "source": [
    "import numpy as np"
   ]
  },
  {
   "cell_type": "code",
   "execution_count": 35,
   "id": "80ff7b5f",
   "metadata": {},
   "outputs": [
    {
     "name": "stdout",
     "output_type": "stream",
     "text": [
      "(5,)\n"
     ]
    }
   ],
   "source": [
    "a = np.array([1,2,3,4,5])\n",
    "print(a.shape)"
   ]
  },
  {
   "cell_type": "code",
   "execution_count": 36,
   "id": "8cc1ae9a",
   "metadata": {},
   "outputs": [
    {
     "name": "stdout",
     "output_type": "stream",
     "text": [
      "(5, 1)\n",
      "[[1]\n",
      " [2]\n",
      " [3]\n",
      " [4]\n",
      " [5]]\n"
     ]
    }
   ],
   "source": [
    "a = a[:, np.newaxis]\n",
    "print(a.shape)\n",
    "print(a)"
   ]
  },
  {
   "cell_type": "code",
   "execution_count": 37,
   "id": "b7f42e18",
   "metadata": {},
   "outputs": [
    {
     "name": "stdout",
     "output_type": "stream",
     "text": [
      "(5, 1, 5)\n",
      "[[[1 1 1 1 1]]\n",
      "\n",
      " [[2 2 2 2 2]]\n",
      "\n",
      " [[3 3 3 3 3]]\n",
      "\n",
      " [[4 4 4 4 4]]\n",
      "\n",
      " [[5 5 5 5 5]]]\n"
     ]
    }
   ],
   "source": [
    "\n",
    "tmp = a\n",
    "\n",
    "for i in range(len(a)-1):\n",
    "    a = np.concatenate([a,tmp],-1)\n",
    "a = np.expand_dims(a, axis=1)\n",
    "print(a.shape)\n",
    "print(a)"
   ]
  },
  {
   "cell_type": "code",
   "execution_count": 34,
   "id": "e1bffa8d",
   "metadata": {},
   "outputs": [
    {
     "name": "stdout",
     "output_type": "stream",
     "text": [
      "(6, 1, 5)\n",
      "[[[1 2 3 4 5]]\n",
      "\n",
      " [[1 2 3 4 5]]\n",
      "\n",
      " [[1 2 3 4 5]]\n",
      "\n",
      " [[1 2 3 4 5]]\n",
      "\n",
      " [[1 2 3 4 5]]\n",
      "\n",
      " [[1 2 3 4 5]]]\n"
     ]
    }
   ],
   "source": [
    "a = np.transpose(a)\n",
    "print(a.shape)\n",
    "print(a)"
   ]
  },
  {
   "cell_type": "code",
   "execution_count": null,
   "id": "2f664831",
   "metadata": {},
   "outputs": [],
   "source": []
  }
 ],
 "metadata": {
  "kernelspec": {
   "display_name": "Python 3",
   "language": "python",
   "name": "python3"
  },
  "language_info": {
   "codemirror_mode": {
    "name": "ipython",
    "version": 3
   },
   "file_extension": ".py",
   "mimetype": "text/x-python",
   "name": "python",
   "nbconvert_exporter": "python",
   "pygments_lexer": "ipython3",
   "version": "3.6.13"
  }
 },
 "nbformat": 4,
 "nbformat_minor": 5
}
