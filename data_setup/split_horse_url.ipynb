{
 "cells": [
  {
   "cell_type": "code",
   "execution_count": 1,
   "id": "3ded8796",
   "metadata": {},
   "outputs": [],
   "source": [
    "from horse_data.split_url_file import split_url_file"
   ]
  },
  {
   "cell_type": "code",
   "execution_count": 2,
   "id": "4734a95f",
   "metadata": {},
   "outputs": [],
   "source": [
    "split_url_file()"
   ]
  },
  {
   "cell_type": "code",
   "execution_count": null,
   "id": "2461fd16",
   "metadata": {},
   "outputs": [],
   "source": []
  }
 ],
 "metadata": {
  "kernelspec": {
   "display_name": "Python 3",
   "language": "python",
   "name": "python3"
  },
  "language_info": {
   "codemirror_mode": {
    "name": "ipython",
    "version": 3
   },
   "file_extension": ".py",
   "mimetype": "text/x-python",
   "name": "python",
   "nbconvert_exporter": "python",
   "pygments_lexer": "ipython3",
   "version": "3.6.13"
  }
 },
 "nbformat": 4,
 "nbformat_minor": 5
}
